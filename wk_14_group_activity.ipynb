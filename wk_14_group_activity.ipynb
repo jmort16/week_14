{
 "cells": [
  {
   "cell_type": "markdown",
   "id": "5ad93d07",
   "metadata": {},
   "source": [
    "##### 1.  Using the documentation for Recursive Feature Selection, apply this process to the crime dataset to create the best multivariate linear regression model https://scikit-learn.org/stable/modules/generated/sklearn.feature_selection.RFE.html.  You can select what you’re trying to predict, but be sure to indicate what that is. Be sure to explain what RFE is in the markdown. You should be able to answer this using what’s on the documentation page + what you already know."
   ]
  },
  {
   "cell_type": "markdown",
   "id": "68af78af",
   "metadata": {},
   "source": [
    "RFE, or Recursive Feature Selection, is a process whereby the features in a dataset are pared down via an algorithm that begins with all of the features in a training dataset, then removes the features one at at time through recursive application of the algorithm.  The reason for doing this evaluating, then eliminating, then evaluating again is to determine the best multivariable regression model for predicting a specific feature in a dataset."
   ]
  },
  {
   "cell_type": "code",
   "execution_count": 98,
   "id": "1fbef08d",
   "metadata": {},
   "outputs": [
    {
     "data": {
      "text/html": [
       "<div>\n",
       "<style scoped>\n",
       "    .dataframe tbody tr th:only-of-type {\n",
       "        vertical-align: middle;\n",
       "    }\n",
       "\n",
       "    .dataframe tbody tr th {\n",
       "        vertical-align: top;\n",
       "    }\n",
       "\n",
       "    .dataframe thead th {\n",
       "        text-align: right;\n",
       "    }\n",
       "</style>\n",
       "<table border=\"1\" class=\"dataframe\">\n",
       "  <thead>\n",
       "    <tr style=\"text-align: right;\">\n",
       "      <th></th>\n",
       "      <th>X1</th>\n",
       "      <th>X2</th>\n",
       "      <th>X3</th>\n",
       "      <th>X4</th>\n",
       "      <th>X5</th>\n",
       "      <th>X6</th>\n",
       "      <th>X7</th>\n",
       "    </tr>\n",
       "  </thead>\n",
       "  <tbody>\n",
       "    <tr>\n",
       "      <th>0</th>\n",
       "      <td>478</td>\n",
       "      <td>184</td>\n",
       "      <td>40</td>\n",
       "      <td>74</td>\n",
       "      <td>11</td>\n",
       "      <td>31</td>\n",
       "      <td>20</td>\n",
       "    </tr>\n",
       "    <tr>\n",
       "      <th>1</th>\n",
       "      <td>494</td>\n",
       "      <td>213</td>\n",
       "      <td>32</td>\n",
       "      <td>72</td>\n",
       "      <td>11</td>\n",
       "      <td>43</td>\n",
       "      <td>18</td>\n",
       "    </tr>\n",
       "    <tr>\n",
       "      <th>2</th>\n",
       "      <td>643</td>\n",
       "      <td>347</td>\n",
       "      <td>57</td>\n",
       "      <td>70</td>\n",
       "      <td>18</td>\n",
       "      <td>16</td>\n",
       "      <td>16</td>\n",
       "    </tr>\n",
       "    <tr>\n",
       "      <th>3</th>\n",
       "      <td>341</td>\n",
       "      <td>565</td>\n",
       "      <td>31</td>\n",
       "      <td>71</td>\n",
       "      <td>11</td>\n",
       "      <td>25</td>\n",
       "      <td>19</td>\n",
       "    </tr>\n",
       "    <tr>\n",
       "      <th>4</th>\n",
       "      <td>773</td>\n",
       "      <td>327</td>\n",
       "      <td>67</td>\n",
       "      <td>72</td>\n",
       "      <td>9</td>\n",
       "      <td>29</td>\n",
       "      <td>24</td>\n",
       "    </tr>\n",
       "  </tbody>\n",
       "</table>\n",
       "</div>"
      ],
      "text/plain": [
       "    X1   X2  X3  X4  X5  X6  X7\n",
       "0  478  184  40  74  11  31  20\n",
       "1  494  213  32  72  11  43  18\n",
       "2  643  347  57  70  18  16  16\n",
       "3  341  565  31  71  11  25  19\n",
       "4  773  327  67  72   9  29  24"
      ]
     },
     "execution_count": 98,
     "metadata": {},
     "output_type": "execute_result"
    }
   ],
   "source": [
    "# Initial Set-Up\n",
    "import numpy as np\n",
    "import pandas as pd\n",
    "import matplotlib.pyplot as plt\n",
    "import seaborn as sns\n",
    "from sklearn.feature_selection import RFE\n",
    "from sklearn.svm import SVR\n",
    "from sklearn.model_selection import train_test_split\n",
    "from sklearn.linear_model import LinearRegression\n",
    "\n",
    "# Import and view crime dataset\n",
    "crime_df = pd.read_csv(\"../wk_13_hmwk/crime_data.csv\")\n",
    "crime_df.head()"
   ]
  },
  {
   "cell_type": "code",
   "execution_count": 79,
   "id": "804c52d7",
   "metadata": {},
   "outputs": [
    {
     "data": {
      "text/plain": [
       "array([4, 1, 1, 1, 2, 3])"
      ]
     },
     "execution_count": 79,
     "metadata": {},
     "output_type": "execute_result"
    }
   ],
   "source": [
    "# Run RFE to find the best 3 variables for a multi-variable linear regression\n",
    "X = crime_df[['X2', 'X3', 'X4', 'X5', 'X6', 'X7']]\n",
    "y = crime_df['X1']\n",
    "estimator = SVR(kernel=\"linear\")\n",
    "selector = RFE(estimator, step=1)  # Since number of features to select is not designated, half of the features will be selected\n",
    "selector = selector.fit(X, y)\n",
    "# Ranking the features according to their value in the regression model.\n",
    "selector.ranking_"
   ]
  },
  {
   "cell_type": "code",
   "execution_count": 80,
   "id": "bc971a05",
   "metadata": {},
   "outputs": [
    {
     "data": {
      "text/plain": [
       "0.2863700478358361"
      ]
     },
     "execution_count": 80,
     "metadata": {},
     "output_type": "execute_result"
    }
   ],
   "source": [
    "# Define X using results of RFE with 3 features selected\n",
    "X = crime_df[['X3', 'X4','X5']]\n",
    "y = crime_df['X1']\n",
    "\n",
    "# Separate data into training and testing sets\n",
    "X_train, X_test, y_train, y_test = train_test_split(X, y, test_size=0.3, random_state=32)\n",
    "regression = LinearRegression()\n",
    "regression.fit(X_train, y_train)\n",
    "y_pred = regression.predict(X_test)\n",
    "accuracy_score = regression.score(X_test,y_test)\n",
    "accuracy_score\n",
    "# This accuracy score doesn't seem very good, although this is not the only measure of the effectiveness of the model.  I will\n",
    "# examine further..."
   ]
  },
  {
   "cell_type": "code",
   "execution_count": 81,
   "id": "95f721e3",
   "metadata": {},
   "outputs": [
    {
     "data": {
      "text/plain": [
       "array([5, 1, 2, 1, 3, 4])"
      ]
     },
     "execution_count": 81,
     "metadata": {},
     "output_type": "execute_result"
    }
   ],
   "source": [
    "# Run RFE to find the best TWO variables for the multi-variable linear regression\n",
    "X = crime_df[['X2', 'X3', 'X4', 'X5', 'X6', 'X7']]\n",
    "y = crime_df['X1']\n",
    "estimator = SVR(kernel=\"linear\")\n",
    "selector = RFE(estimator, n_features_to_select=2, step=1)\n",
    "selector = selector.fit(X, y)\n",
    "selector.ranking_"
   ]
  },
  {
   "cell_type": "code",
   "execution_count": 101,
   "id": "1e1bedc5",
   "metadata": {},
   "outputs": [
    {
     "data": {
      "text/plain": [
       "0.49365232885912835"
      ]
     },
     "execution_count": 101,
     "metadata": {},
     "output_type": "execute_result"
    }
   ],
   "source": [
    "# Define X using results of RFE with 2 features selected\n",
    "X = crime_df[['X3', 'X5']]\n",
    "y = crime_df['X1']\n",
    "\n",
    "# Separate data into training and testing sets\n",
    "X_train, X_test, y_train, y_test = train_test_split(X, y, test_size=0.3, random_state=32)\n",
    "regression = LinearRegression()\n",
    "regression.fit(X_train, y_train)\n",
    "y_pred = regression.predict(X_test)\n",
    "accuracy_score = regression.score(X_test,y_test)\n",
    "accuracy_score\n",
    "# There's a significantly higher accuracy score when only two features are selected, so I will use this information for the\n",
    "# model instead of the previous results."
   ]
  },
  {
   "cell_type": "code",
   "execution_count": 102,
   "id": "520307e4",
   "metadata": {},
   "outputs": [
    {
     "data": {
      "text/plain": [
       "array([9.41770881, 6.27333622])"
      ]
     },
     "execution_count": 102,
     "metadata": {},
     "output_type": "execute_result"
    }
   ],
   "source": [
    "regression.coef_"
   ]
  },
  {
   "cell_type": "markdown",
   "id": "a19c4d2b",
   "metadata": {},
   "source": [
    "Based on the results here, the best regression model to predict X1 in the crime dataset is: X1 = 9.42 * X3 + 6.27 * X5"
   ]
  },
  {
   "cell_type": "markdown",
   "id": "a481d84e",
   "metadata": {},
   "source": [
    "##### 2. Create a list of preprocessing steps you should try when working to build a model. Briefly describe what each step is. Work with your group to come up with the most comprehensive list you can.  "
   ]
  },
  {
   "cell_type": "markdown",
   "id": "7afbf7c7",
   "metadata": {},
   "source": [
    "#### PRE-PROCESSING:\n",
    "    \n",
    "1.  Drop columns that are largely or entirely comprised of null values, since they do not contribute significantly to the data set.\n",
    "\n",
    "\n",
    "2.  Handle missing data using one or more of the following strategies: \n",
    "    \n",
    "    a.  Fill in numerical data with the average value for that feature (column)\n",
    "    \n",
    "    b.  Eliminate observations (rows) that have null values (as long as there are a small percentage of these compared to the entire dataset).\n",
    "    \n",
    "    c.  Fill in categorical data with the most commonly occurring value.  \n",
    "    \n",
    "    d.  Develop a model to predict the missing values (such as a logistic regression model or knn to impute missing values in categorical data)\n",
    "    \n",
    "\n",
    "3.  Normalize/Standardize the data.  Use functions like StandardScaler to create a common scale for all of the features in the dataset, normalizing them so that they all have a mean of 0 and a standard deviation of 1.\n",
    "\n",
    "\n",
    "4.  Use techniques such as one-hot encoding or LabelEncoder to convert categorical data to numerical.\n",
    "\n",
    "\n",
    "5.  Create a correlation matrix and/or heatmap to determine features in the dataset that are most likely correlated.\n",
    "\n",
    "\n",
    "6.  Use the results of the heatmap along with methods such as Recursive Feature Elimination to select the features that are most likely to predict the target variable."
   ]
  },
  {
   "cell_type": "code",
   "execution_count": null,
   "id": "e74a32c0",
   "metadata": {},
   "outputs": [],
   "source": []
  }
 ],
 "metadata": {
  "kernelspec": {
   "display_name": "Python 3 (ipykernel)",
   "language": "python",
   "name": "python3"
  },
  "language_info": {
   "codemirror_mode": {
    "name": "ipython",
    "version": 3
   },
   "file_extension": ".py",
   "mimetype": "text/x-python",
   "name": "python",
   "nbconvert_exporter": "python",
   "pygments_lexer": "ipython3",
   "version": "3.9.7"
  }
 },
 "nbformat": 4,
 "nbformat_minor": 5
}
